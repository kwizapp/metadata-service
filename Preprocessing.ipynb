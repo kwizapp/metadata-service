{
 "cells": [
  {
   "cell_type": "markdown",
   "metadata": {},
   "source": [
    "# Dependencies"
   ]
  },
  {
   "cell_type": "code",
   "execution_count": 1,
   "metadata": {},
   "outputs": [],
   "source": [
    "import pandas as pd"
   ]
  },
  {
   "cell_type": "markdown",
   "metadata": {},
   "source": [
    "# Data Import and Cleanup"
   ]
  },
  {
   "cell_type": "code",
   "execution_count": 2,
   "metadata": {},
   "outputs": [
    {
     "output_type": "execute_result",
     "data": {
      "text/plain": "          budget                                             genres  \\\n30700   74000000  [{'id': 10751, 'name': 'Family'}, {'id': 16, '...   \n33356  149000000  [{'id': 28, 'name': 'Action'}, {'id': 12, 'nam...   \n\n                                     homepage    imdb_id original_language  \\\n30700            http://www.minionsmovie.com/  tt2293640                en   \n33356  http://www.warnerbros.com/wonder-woman  tt0451279                en   \n\n      original_title                                           overview  \\\n30700        Minions  Minions Stuart, Kevin and Bob are recruited by...   \n33356   Wonder Woman  An Amazon princess comes to the world of Man t...   \n\n       popularity                       poster_path  \\\n30700  547.488298   /q0R4crx2SehcEEQEkYObktdeFy.jpg   \n33356  294.337037  /imekS7f1OuHyUP2LAiTEM0zBzUz.jpg   \n\n                                    production_companies  ... release_date  \\\n30700  [{'name': 'Universal Pictures', 'id': 33}, {'n...  ...   2015-06-17   \n33356  [{'name': 'Dune Entertainment', 'id': 444}, {'...  ...   2017-05-30   \n\n            revenue  runtime  \\\n30700  1.156731e+09     91.0   \n33356  8.205804e+08    141.0   \n\n                                        spoken_languages    status  \\\n30700           [{'iso_639_1': 'en', 'name': 'English'}]  Released   \n33356  [{'iso_639_1': 'de', 'name': 'Deutsch'}, {'iso...  Released   \n\n                                            tagline         title  video  \\\n30700  Before Gru, they had a history of bad bosses       Minions  False   \n33356                 Power. Grace. Wisdom. Wonder.  Wonder Woman  False   \n\n      vote_average  vote_count  \n30700          6.4      4729.0  \n33356          7.2      5025.0  \n\n[2 rows x 21 columns]",
      "text/html": "<div>\n<style scoped>\n    .dataframe tbody tr th:only-of-type {\n        vertical-align: middle;\n    }\n\n    .dataframe tbody tr th {\n        vertical-align: top;\n    }\n\n    .dataframe thead th {\n        text-align: right;\n    }\n</style>\n<table border=\"1\" class=\"dataframe\">\n  <thead>\n    <tr style=\"text-align: right;\">\n      <th></th>\n      <th>budget</th>\n      <th>genres</th>\n      <th>homepage</th>\n      <th>imdb_id</th>\n      <th>original_language</th>\n      <th>original_title</th>\n      <th>overview</th>\n      <th>popularity</th>\n      <th>poster_path</th>\n      <th>production_companies</th>\n      <th>...</th>\n      <th>release_date</th>\n      <th>revenue</th>\n      <th>runtime</th>\n      <th>spoken_languages</th>\n      <th>status</th>\n      <th>tagline</th>\n      <th>title</th>\n      <th>video</th>\n      <th>vote_average</th>\n      <th>vote_count</th>\n    </tr>\n  </thead>\n  <tbody>\n    <tr>\n      <th>30700</th>\n      <td>74000000</td>\n      <td>[{'id': 10751, 'name': 'Family'}, {'id': 16, '...</td>\n      <td>http://www.minionsmovie.com/</td>\n      <td>tt2293640</td>\n      <td>en</td>\n      <td>Minions</td>\n      <td>Minions Stuart, Kevin and Bob are recruited by...</td>\n      <td>547.488298</td>\n      <td>/q0R4crx2SehcEEQEkYObktdeFy.jpg</td>\n      <td>[{'name': 'Universal Pictures', 'id': 33}, {'n...</td>\n      <td>...</td>\n      <td>2015-06-17</td>\n      <td>1.156731e+09</td>\n      <td>91.0</td>\n      <td>[{'iso_639_1': 'en', 'name': 'English'}]</td>\n      <td>Released</td>\n      <td>Before Gru, they had a history of bad bosses</td>\n      <td>Minions</td>\n      <td>False</td>\n      <td>6.4</td>\n      <td>4729.0</td>\n    </tr>\n    <tr>\n      <th>33356</th>\n      <td>149000000</td>\n      <td>[{'id': 28, 'name': 'Action'}, {'id': 12, 'nam...</td>\n      <td>http://www.warnerbros.com/wonder-woman</td>\n      <td>tt0451279</td>\n      <td>en</td>\n      <td>Wonder Woman</td>\n      <td>An Amazon princess comes to the world of Man t...</td>\n      <td>294.337037</td>\n      <td>/imekS7f1OuHyUP2LAiTEM0zBzUz.jpg</td>\n      <td>[{'name': 'Dune Entertainment', 'id': 444}, {'...</td>\n      <td>...</td>\n      <td>2017-05-30</td>\n      <td>8.205804e+08</td>\n      <td>141.0</td>\n      <td>[{'iso_639_1': 'de', 'name': 'Deutsch'}, {'iso...</td>\n      <td>Released</td>\n      <td>Power. Grace. Wisdom. Wonder.</td>\n      <td>Wonder Woman</td>\n      <td>False</td>\n      <td>7.2</td>\n      <td>5025.0</td>\n    </tr>\n  </tbody>\n</table>\n<p>2 rows × 21 columns</p>\n</div>"
     },
     "metadata": {},
     "execution_count": 2
    }
   ],
   "source": [
    "movies_meta = pd.read_csv(\"datasets/the-movies-dataset/movies_metadata.csv\")\n",
    "\n",
    "# filter out foreign movies (not en or de)\n",
    "movies_meta = movies_meta[movies_meta.original_language.isin([\"en\", \"de\"])]\n",
    "\n",
    "# filter movies with NA in critical columns\n",
    "for column in [\"imdb_id\", \"title\", \"release_date\", \"popularity\"]:\n",
    "    movies_meta = movies_meta[movies_meta[column].isna() == False]\n",
    "\n",
    "# filter adult movies\n",
    "movies_meta = movies_meta[movies_meta.adult == \"False\"]\n",
    "\n",
    "# sort the list by popularity\n",
    "movies_meta[\"popularity\"] = pd.to_numeric(movies_meta.popularity)\n",
    "movies_meta = movies_meta.sort_values(\"popularity\", ascending=False)\n",
    "\n",
    "# drop unnecessary columns\n",
    "movies_meta = movies_meta.drop([\"adult\", \"belongs_to_collection\", \"id\"], axis=1)\n",
    "\n",
    "movies_meta.head(2)"
   ]
  },
  {
   "cell_type": "code",
   "execution_count": 3,
   "metadata": {},
   "outputs": [
    {
     "output_type": "execute_result",
     "data": {
      "text/plain": "1"
     },
     "metadata": {},
     "execution_count": 3
    }
   ],
   "source": [
    "# find and purge duplicated imdb ids\n",
    "movies_meta[\"is_duplicate\"] = movies_meta.duplicated([\"imdb_id\"])\n",
    "movies_meta = movies_meta[~movies_meta.is_duplicate]\n",
    "max(movies_meta.imdb_id.value_counts())"
   ]
  },
  {
   "cell_type": "code",
   "execution_count": 4,
   "metadata": {},
   "outputs": [],
   "source": [
    "# TODO: we might actually want to use these columns, but we do not save them to the DB in a first iteration!\n",
    "movies_meta = movies_meta.drop([\"genres\", \"production_companies\", \"spoken_languages\", \"production_countries\", \"is_duplicate\"], axis=1)"
   ]
  },
  {
   "cell_type": "markdown",
   "metadata": {},
   "source": [
    "# Segmentation based on Release Date"
   ]
  },
  {
   "cell_type": "code",
   "execution_count": 5,
   "metadata": {},
   "outputs": [
    {
     "output_type": "execute_result",
     "data": {
      "text/plain": "          budget                                homepage    imdb_id  \\\n30700   74000000            http://www.minionsmovie.com/  tt2293640   \n33356  149000000  http://www.warnerbros.com/wonder-woman  tt0451279   \n\n      original_language original_title  \\\n30700                en        Minions   \n33356                en   Wonder Woman   \n\n                                                overview  popularity  \\\n30700  Minions Stuart, Kevin and Bob are recruited by...  547.488298   \n33356  An Amazon princess comes to the world of Man t...  294.337037   \n\n                            poster_path release_date       revenue  runtime  \\\n30700   /q0R4crx2SehcEEQEkYObktdeFy.jpg   2015-06-17  1.156731e+09     91.0   \n33356  /imekS7f1OuHyUP2LAiTEM0zBzUz.jpg   2017-05-30  8.205804e+08    141.0   \n\n         status                                       tagline         title  \\\n30700  Released  Before Gru, they had a history of bad bosses       Minions   \n33356  Released                 Power. Grace. Wisdom. Wonder.  Wonder Woman   \n\n       video  vote_average  vote_count  date_segment  \n30700  False           6.4      4729.0             2  \n33356  False           7.2      5025.0             2  ",
      "text/html": "<div>\n<style scoped>\n    .dataframe tbody tr th:only-of-type {\n        vertical-align: middle;\n    }\n\n    .dataframe tbody tr th {\n        vertical-align: top;\n    }\n\n    .dataframe thead th {\n        text-align: right;\n    }\n</style>\n<table border=\"1\" class=\"dataframe\">\n  <thead>\n    <tr style=\"text-align: right;\">\n      <th></th>\n      <th>budget</th>\n      <th>homepage</th>\n      <th>imdb_id</th>\n      <th>original_language</th>\n      <th>original_title</th>\n      <th>overview</th>\n      <th>popularity</th>\n      <th>poster_path</th>\n      <th>release_date</th>\n      <th>revenue</th>\n      <th>runtime</th>\n      <th>status</th>\n      <th>tagline</th>\n      <th>title</th>\n      <th>video</th>\n      <th>vote_average</th>\n      <th>vote_count</th>\n      <th>date_segment</th>\n    </tr>\n  </thead>\n  <tbody>\n    <tr>\n      <th>30700</th>\n      <td>74000000</td>\n      <td>http://www.minionsmovie.com/</td>\n      <td>tt2293640</td>\n      <td>en</td>\n      <td>Minions</td>\n      <td>Minions Stuart, Kevin and Bob are recruited by...</td>\n      <td>547.488298</td>\n      <td>/q0R4crx2SehcEEQEkYObktdeFy.jpg</td>\n      <td>2015-06-17</td>\n      <td>1.156731e+09</td>\n      <td>91.0</td>\n      <td>Released</td>\n      <td>Before Gru, they had a history of bad bosses</td>\n      <td>Minions</td>\n      <td>False</td>\n      <td>6.4</td>\n      <td>4729.0</td>\n      <td>2</td>\n    </tr>\n    <tr>\n      <th>33356</th>\n      <td>149000000</td>\n      <td>http://www.warnerbros.com/wonder-woman</td>\n      <td>tt0451279</td>\n      <td>en</td>\n      <td>Wonder Woman</td>\n      <td>An Amazon princess comes to the world of Man t...</td>\n      <td>294.337037</td>\n      <td>/imekS7f1OuHyUP2LAiTEM0zBzUz.jpg</td>\n      <td>2017-05-30</td>\n      <td>8.205804e+08</td>\n      <td>141.0</td>\n      <td>Released</td>\n      <td>Power. Grace. Wisdom. Wonder.</td>\n      <td>Wonder Woman</td>\n      <td>False</td>\n      <td>7.2</td>\n      <td>5025.0</td>\n      <td>2</td>\n    </tr>\n  </tbody>\n</table>\n</div>"
     },
     "metadata": {},
     "execution_count": 5
    }
   ],
   "source": [
    "def assign_date_bucket(row):\n",
    "    as_dt = pd.to_datetime(row[\"release_date\"])\n",
    "    year = as_dt.year\n",
    "    \n",
    "    # before 1990\n",
    "    if year < 1990:\n",
    "        return 0\n",
    "    \n",
    "    # 1990-2005\n",
    "    elif year < 2005:\n",
    "        return 1\n",
    "    \n",
    "    # 2005-2020\n",
    "    return 2\n",
    "\n",
    "movies_meta[\"date_segment\"] = movies_meta.apply(assign_date_bucket, axis=1)\n",
    "movies_meta.head(2)"
   ]
  },
  {
   "cell_type": "code",
   "execution_count": 6,
   "metadata": {},
   "outputs": [],
   "source": [
    "# movies_meta.info()"
   ]
  },
  {
   "cell_type": "code",
   "execution_count": 7,
   "metadata": {},
   "outputs": [
    {
     "output_type": "execute_result",
     "data": {
      "text/plain": "       budget                                           homepage    imdb_id  \\\n536  28000000             http://www.warnerbros.com/blade-runner  tt0083658   \n256  11000000  http://www.starwars.com/films/star-wars-episod...  tt0076759   \n\n    original_language original_title  \\\n536                en   Blade Runner   \n256                en      Star Wars   \n\n                                              overview  popularity  \\\n536  In the smog-choked dystopian Los Angeles of 20...   96.272374   \n256  Princess Leia is captured and held hostage by ...   42.149697   \n\n                          poster_path release_date      revenue  runtime  \\\n536  /p64TtbZGCElxQHpAMWmDHkWJlH2.jpg   1982-06-25   33139618.0    117.0   \n256  /btTdmkgIvOi0FFip1sPuZI2oQG6.jpg   1977-05-25  775398007.0    121.0   \n\n       status                                          tagline         title  \\\n536  Released  Man has made his match... now it's his problem.  Blade Runner   \n256  Released     A long time ago in a galaxy far, far away...     Star Wars   \n\n     video  vote_average  vote_count  date_segment  \n536  False           7.9      3833.0             0  \n256  False           8.1      6778.0             0  ",
      "text/html": "<div>\n<style scoped>\n    .dataframe tbody tr th:only-of-type {\n        vertical-align: middle;\n    }\n\n    .dataframe tbody tr th {\n        vertical-align: top;\n    }\n\n    .dataframe thead th {\n        text-align: right;\n    }\n</style>\n<table border=\"1\" class=\"dataframe\">\n  <thead>\n    <tr style=\"text-align: right;\">\n      <th></th>\n      <th>budget</th>\n      <th>homepage</th>\n      <th>imdb_id</th>\n      <th>original_language</th>\n      <th>original_title</th>\n      <th>overview</th>\n      <th>popularity</th>\n      <th>poster_path</th>\n      <th>release_date</th>\n      <th>revenue</th>\n      <th>runtime</th>\n      <th>status</th>\n      <th>tagline</th>\n      <th>title</th>\n      <th>video</th>\n      <th>vote_average</th>\n      <th>vote_count</th>\n      <th>date_segment</th>\n    </tr>\n  </thead>\n  <tbody>\n    <tr>\n      <th>536</th>\n      <td>28000000</td>\n      <td>http://www.warnerbros.com/blade-runner</td>\n      <td>tt0083658</td>\n      <td>en</td>\n      <td>Blade Runner</td>\n      <td>In the smog-choked dystopian Los Angeles of 20...</td>\n      <td>96.272374</td>\n      <td>/p64TtbZGCElxQHpAMWmDHkWJlH2.jpg</td>\n      <td>1982-06-25</td>\n      <td>33139618.0</td>\n      <td>117.0</td>\n      <td>Released</td>\n      <td>Man has made his match... now it's his problem.</td>\n      <td>Blade Runner</td>\n      <td>False</td>\n      <td>7.9</td>\n      <td>3833.0</td>\n      <td>0</td>\n    </tr>\n    <tr>\n      <th>256</th>\n      <td>11000000</td>\n      <td>http://www.starwars.com/films/star-wars-episod...</td>\n      <td>tt0076759</td>\n      <td>en</td>\n      <td>Star Wars</td>\n      <td>Princess Leia is captured and held hostage by ...</td>\n      <td>42.149697</td>\n      <td>/btTdmkgIvOi0FFip1sPuZI2oQG6.jpg</td>\n      <td>1977-05-25</td>\n      <td>775398007.0</td>\n      <td>121.0</td>\n      <td>Released</td>\n      <td>A long time ago in a galaxy far, far away...</td>\n      <td>Star Wars</td>\n      <td>False</td>\n      <td>8.1</td>\n      <td>6778.0</td>\n      <td>0</td>\n    </tr>\n  </tbody>\n</table>\n</div>"
     },
     "metadata": {},
     "execution_count": 7
    }
   ],
   "source": [
    "movies_until_1990 = movies_meta[movies_meta[\"date_segment\"] == 0]\n",
    "movies_until_1990.head(2)"
   ]
  },
  {
   "cell_type": "code",
   "execution_count": 8,
   "metadata": {},
   "outputs": [
    {
     "output_type": "execute_result",
     "data": {
      "text/plain": "        budget                                    homepage    imdb_id  \\\n292    8000000                                         NaN  tt0110912   \n2843  63000000  http://www.foxmovies.com/movies/fight-club  tt0137523   \n\n     original_language original_title  \\\n292                 en   Pulp Fiction   \n2843                en     Fight Club   \n\n                                               overview  popularity  \\\n292   A burger-loving hit man, his philosophical par...  140.950236   \n2843  A ticking-time-bomb insomniac and a slippery s...   63.869599   \n\n                           poster_path release_date      revenue  runtime  \\\n292    /dM2w364MScsjFf8pfMbaWUcWrR.jpg   1994-09-10  213928762.0    154.0   \n2843  /adw6Lq9FiC9zjYEpOqfq03ituwp.jpg   1999-10-15  100853753.0    139.0   \n\n        status                                            tagline  \\\n292   Released  Just because you are a character doesn't mean ...   \n2843  Released                            Mischief. Mayhem. Soap.   \n\n             title  video  vote_average  vote_count  date_segment  \n292   Pulp Fiction  False           8.3      8670.0             1  \n2843    Fight Club  False           8.3      9678.0             1  ",
      "text/html": "<div>\n<style scoped>\n    .dataframe tbody tr th:only-of-type {\n        vertical-align: middle;\n    }\n\n    .dataframe tbody tr th {\n        vertical-align: top;\n    }\n\n    .dataframe thead th {\n        text-align: right;\n    }\n</style>\n<table border=\"1\" class=\"dataframe\">\n  <thead>\n    <tr style=\"text-align: right;\">\n      <th></th>\n      <th>budget</th>\n      <th>homepage</th>\n      <th>imdb_id</th>\n      <th>original_language</th>\n      <th>original_title</th>\n      <th>overview</th>\n      <th>popularity</th>\n      <th>poster_path</th>\n      <th>release_date</th>\n      <th>revenue</th>\n      <th>runtime</th>\n      <th>status</th>\n      <th>tagline</th>\n      <th>title</th>\n      <th>video</th>\n      <th>vote_average</th>\n      <th>vote_count</th>\n      <th>date_segment</th>\n    </tr>\n  </thead>\n  <tbody>\n    <tr>\n      <th>292</th>\n      <td>8000000</td>\n      <td>NaN</td>\n      <td>tt0110912</td>\n      <td>en</td>\n      <td>Pulp Fiction</td>\n      <td>A burger-loving hit man, his philosophical par...</td>\n      <td>140.950236</td>\n      <td>/dM2w364MScsjFf8pfMbaWUcWrR.jpg</td>\n      <td>1994-09-10</td>\n      <td>213928762.0</td>\n      <td>154.0</td>\n      <td>Released</td>\n      <td>Just because you are a character doesn't mean ...</td>\n      <td>Pulp Fiction</td>\n      <td>False</td>\n      <td>8.3</td>\n      <td>8670.0</td>\n      <td>1</td>\n    </tr>\n    <tr>\n      <th>2843</th>\n      <td>63000000</td>\n      <td>http://www.foxmovies.com/movies/fight-club</td>\n      <td>tt0137523</td>\n      <td>en</td>\n      <td>Fight Club</td>\n      <td>A ticking-time-bomb insomniac and a slippery s...</td>\n      <td>63.869599</td>\n      <td>/adw6Lq9FiC9zjYEpOqfq03ituwp.jpg</td>\n      <td>1999-10-15</td>\n      <td>100853753.0</td>\n      <td>139.0</td>\n      <td>Released</td>\n      <td>Mischief. Mayhem. Soap.</td>\n      <td>Fight Club</td>\n      <td>False</td>\n      <td>8.3</td>\n      <td>9678.0</td>\n      <td>1</td>\n    </tr>\n  </tbody>\n</table>\n</div>"
     },
     "metadata": {},
     "execution_count": 8
    }
   ],
   "source": [
    "movies_until_2005 = movies_meta[movies_meta[\"date_segment\"] == 1]\n",
    "movies_until_2005.head(2)"
   ]
  },
  {
   "cell_type": "code",
   "execution_count": 9,
   "metadata": {},
   "outputs": [
    {
     "output_type": "execute_result",
     "data": {
      "text/plain": "          budget                                homepage    imdb_id  \\\n30700   74000000            http://www.minionsmovie.com/  tt2293640   \n33356  149000000  http://www.warnerbros.com/wonder-woman  tt0451279   \n\n      original_language original_title  \\\n30700                en        Minions   \n33356                en   Wonder Woman   \n\n                                                overview  popularity  \\\n30700  Minions Stuart, Kevin and Bob are recruited by...  547.488298   \n33356  An Amazon princess comes to the world of Man t...  294.337037   \n\n                            poster_path release_date       revenue  runtime  \\\n30700   /q0R4crx2SehcEEQEkYObktdeFy.jpg   2015-06-17  1.156731e+09     91.0   \n33356  /imekS7f1OuHyUP2LAiTEM0zBzUz.jpg   2017-05-30  8.205804e+08    141.0   \n\n         status                                       tagline         title  \\\n30700  Released  Before Gru, they had a history of bad bosses       Minions   \n33356  Released                 Power. Grace. Wisdom. Wonder.  Wonder Woman   \n\n       video  vote_average  vote_count  date_segment  \n30700  False           6.4      4729.0             2  \n33356  False           7.2      5025.0             2  ",
      "text/html": "<div>\n<style scoped>\n    .dataframe tbody tr th:only-of-type {\n        vertical-align: middle;\n    }\n\n    .dataframe tbody tr th {\n        vertical-align: top;\n    }\n\n    .dataframe thead th {\n        text-align: right;\n    }\n</style>\n<table border=\"1\" class=\"dataframe\">\n  <thead>\n    <tr style=\"text-align: right;\">\n      <th></th>\n      <th>budget</th>\n      <th>homepage</th>\n      <th>imdb_id</th>\n      <th>original_language</th>\n      <th>original_title</th>\n      <th>overview</th>\n      <th>popularity</th>\n      <th>poster_path</th>\n      <th>release_date</th>\n      <th>revenue</th>\n      <th>runtime</th>\n      <th>status</th>\n      <th>tagline</th>\n      <th>title</th>\n      <th>video</th>\n      <th>vote_average</th>\n      <th>vote_count</th>\n      <th>date_segment</th>\n    </tr>\n  </thead>\n  <tbody>\n    <tr>\n      <th>30700</th>\n      <td>74000000</td>\n      <td>http://www.minionsmovie.com/</td>\n      <td>tt2293640</td>\n      <td>en</td>\n      <td>Minions</td>\n      <td>Minions Stuart, Kevin and Bob are recruited by...</td>\n      <td>547.488298</td>\n      <td>/q0R4crx2SehcEEQEkYObktdeFy.jpg</td>\n      <td>2015-06-17</td>\n      <td>1.156731e+09</td>\n      <td>91.0</td>\n      <td>Released</td>\n      <td>Before Gru, they had a history of bad bosses</td>\n      <td>Minions</td>\n      <td>False</td>\n      <td>6.4</td>\n      <td>4729.0</td>\n      <td>2</td>\n    </tr>\n    <tr>\n      <th>33356</th>\n      <td>149000000</td>\n      <td>http://www.warnerbros.com/wonder-woman</td>\n      <td>tt0451279</td>\n      <td>en</td>\n      <td>Wonder Woman</td>\n      <td>An Amazon princess comes to the world of Man t...</td>\n      <td>294.337037</td>\n      <td>/imekS7f1OuHyUP2LAiTEM0zBzUz.jpg</td>\n      <td>2017-05-30</td>\n      <td>8.205804e+08</td>\n      <td>141.0</td>\n      <td>Released</td>\n      <td>Power. Grace. Wisdom. Wonder.</td>\n      <td>Wonder Woman</td>\n      <td>False</td>\n      <td>7.2</td>\n      <td>5025.0</td>\n      <td>2</td>\n    </tr>\n  </tbody>\n</table>\n</div>"
     },
     "metadata": {},
     "execution_count": 9
    }
   ],
   "source": [
    "movies_until_2020 = movies_meta[movies_meta[\"date_segment\"] == 2]\n",
    "movies_until_2020.head(2)"
   ]
  },
  {
   "cell_type": "markdown",
   "metadata": {},
   "source": [
    "# Extract Top50"
   ]
  },
  {
   "cell_type": "code",
   "execution_count": 10,
   "metadata": {},
   "outputs": [
    {
     "output_type": "execute_result",
     "data": {
      "text/plain": "       budget                                           homepage    imdb_id  \\\n536  28000000             http://www.warnerbros.com/blade-runner  tt0083658   \n256  11000000  http://www.starwars.com/films/star-wars-episod...  tt0076759   \n\n    original_language original_title  \\\n536                en   Blade Runner   \n256                en      Star Wars   \n\n                                              overview  popularity  \\\n536  In the smog-choked dystopian Los Angeles of 20...   96.272374   \n256  Princess Leia is captured and held hostage by ...   42.149697   \n\n                          poster_path release_date      revenue  runtime  \\\n536  /p64TtbZGCElxQHpAMWmDHkWJlH2.jpg   1982-06-25   33139618.0    117.0   \n256  /btTdmkgIvOi0FFip1sPuZI2oQG6.jpg   1977-05-25  775398007.0    121.0   \n\n       status                                          tagline         title  \\\n536  Released  Man has made his match... now it's his problem.  Blade Runner   \n256  Released     A long time ago in a galaxy far, far away...     Star Wars   \n\n     video  vote_average  vote_count  date_segment  \n536  False           7.9      3833.0             0  \n256  False           8.1      6778.0             0  ",
      "text/html": "<div>\n<style scoped>\n    .dataframe tbody tr th:only-of-type {\n        vertical-align: middle;\n    }\n\n    .dataframe tbody tr th {\n        vertical-align: top;\n    }\n\n    .dataframe thead th {\n        text-align: right;\n    }\n</style>\n<table border=\"1\" class=\"dataframe\">\n  <thead>\n    <tr style=\"text-align: right;\">\n      <th></th>\n      <th>budget</th>\n      <th>homepage</th>\n      <th>imdb_id</th>\n      <th>original_language</th>\n      <th>original_title</th>\n      <th>overview</th>\n      <th>popularity</th>\n      <th>poster_path</th>\n      <th>release_date</th>\n      <th>revenue</th>\n      <th>runtime</th>\n      <th>status</th>\n      <th>tagline</th>\n      <th>title</th>\n      <th>video</th>\n      <th>vote_average</th>\n      <th>vote_count</th>\n      <th>date_segment</th>\n    </tr>\n  </thead>\n  <tbody>\n    <tr>\n      <th>536</th>\n      <td>28000000</td>\n      <td>http://www.warnerbros.com/blade-runner</td>\n      <td>tt0083658</td>\n      <td>en</td>\n      <td>Blade Runner</td>\n      <td>In the smog-choked dystopian Los Angeles of 20...</td>\n      <td>96.272374</td>\n      <td>/p64TtbZGCElxQHpAMWmDHkWJlH2.jpg</td>\n      <td>1982-06-25</td>\n      <td>33139618.0</td>\n      <td>117.0</td>\n      <td>Released</td>\n      <td>Man has made his match... now it's his problem.</td>\n      <td>Blade Runner</td>\n      <td>False</td>\n      <td>7.9</td>\n      <td>3833.0</td>\n      <td>0</td>\n    </tr>\n    <tr>\n      <th>256</th>\n      <td>11000000</td>\n      <td>http://www.starwars.com/films/star-wars-episod...</td>\n      <td>tt0076759</td>\n      <td>en</td>\n      <td>Star Wars</td>\n      <td>Princess Leia is captured and held hostage by ...</td>\n      <td>42.149697</td>\n      <td>/btTdmkgIvOi0FFip1sPuZI2oQG6.jpg</td>\n      <td>1977-05-25</td>\n      <td>775398007.0</td>\n      <td>121.0</td>\n      <td>Released</td>\n      <td>A long time ago in a galaxy far, far away...</td>\n      <td>Star Wars</td>\n      <td>False</td>\n      <td>8.1</td>\n      <td>6778.0</td>\n      <td>0</td>\n    </tr>\n  </tbody>\n</table>\n</div>"
     },
     "metadata": {},
     "execution_count": 10
    }
   ],
   "source": [
    "top50_until_1990 = movies_until_1990.iloc[0:50]\n",
    "top50_until_1990.head(2)"
   ]
  },
  {
   "cell_type": "code",
   "execution_count": 11,
   "metadata": {},
   "outputs": [
    {
     "output_type": "execute_result",
     "data": {
      "text/plain": "        budget                                    homepage    imdb_id  \\\n292    8000000                                         NaN  tt0110912   \n2843  63000000  http://www.foxmovies.com/movies/fight-club  tt0137523   \n\n     original_language original_title  \\\n292                 en   Pulp Fiction   \n2843                en     Fight Club   \n\n                                               overview  popularity  \\\n292   A burger-loving hit man, his philosophical par...  140.950236   \n2843  A ticking-time-bomb insomniac and a slippery s...   63.869599   \n\n                           poster_path release_date      revenue  runtime  \\\n292    /dM2w364MScsjFf8pfMbaWUcWrR.jpg   1994-09-10  213928762.0    154.0   \n2843  /adw6Lq9FiC9zjYEpOqfq03ituwp.jpg   1999-10-15  100853753.0    139.0   \n\n        status                                            tagline  \\\n292   Released  Just because you are a character doesn't mean ...   \n2843  Released                            Mischief. Mayhem. Soap.   \n\n             title  video  vote_average  vote_count  date_segment  \n292   Pulp Fiction  False           8.3      8670.0             1  \n2843    Fight Club  False           8.3      9678.0             1  ",
      "text/html": "<div>\n<style scoped>\n    .dataframe tbody tr th:only-of-type {\n        vertical-align: middle;\n    }\n\n    .dataframe tbody tr th {\n        vertical-align: top;\n    }\n\n    .dataframe thead th {\n        text-align: right;\n    }\n</style>\n<table border=\"1\" class=\"dataframe\">\n  <thead>\n    <tr style=\"text-align: right;\">\n      <th></th>\n      <th>budget</th>\n      <th>homepage</th>\n      <th>imdb_id</th>\n      <th>original_language</th>\n      <th>original_title</th>\n      <th>overview</th>\n      <th>popularity</th>\n      <th>poster_path</th>\n      <th>release_date</th>\n      <th>revenue</th>\n      <th>runtime</th>\n      <th>status</th>\n      <th>tagline</th>\n      <th>title</th>\n      <th>video</th>\n      <th>vote_average</th>\n      <th>vote_count</th>\n      <th>date_segment</th>\n    </tr>\n  </thead>\n  <tbody>\n    <tr>\n      <th>292</th>\n      <td>8000000</td>\n      <td>NaN</td>\n      <td>tt0110912</td>\n      <td>en</td>\n      <td>Pulp Fiction</td>\n      <td>A burger-loving hit man, his philosophical par...</td>\n      <td>140.950236</td>\n      <td>/dM2w364MScsjFf8pfMbaWUcWrR.jpg</td>\n      <td>1994-09-10</td>\n      <td>213928762.0</td>\n      <td>154.0</td>\n      <td>Released</td>\n      <td>Just because you are a character doesn't mean ...</td>\n      <td>Pulp Fiction</td>\n      <td>False</td>\n      <td>8.3</td>\n      <td>8670.0</td>\n      <td>1</td>\n    </tr>\n    <tr>\n      <th>2843</th>\n      <td>63000000</td>\n      <td>http://www.foxmovies.com/movies/fight-club</td>\n      <td>tt0137523</td>\n      <td>en</td>\n      <td>Fight Club</td>\n      <td>A ticking-time-bomb insomniac and a slippery s...</td>\n      <td>63.869599</td>\n      <td>/adw6Lq9FiC9zjYEpOqfq03ituwp.jpg</td>\n      <td>1999-10-15</td>\n      <td>100853753.0</td>\n      <td>139.0</td>\n      <td>Released</td>\n      <td>Mischief. Mayhem. Soap.</td>\n      <td>Fight Club</td>\n      <td>False</td>\n      <td>8.3</td>\n      <td>9678.0</td>\n      <td>1</td>\n    </tr>\n  </tbody>\n</table>\n</div>"
     },
     "metadata": {},
     "execution_count": 11
    }
   ],
   "source": [
    "top50_until_2005 = movies_until_2005.iloc[0:50]\n",
    "top50_until_2005.head(2)"
   ]
  },
  {
   "cell_type": "code",
   "execution_count": 12,
   "metadata": {},
   "outputs": [
    {
     "output_type": "execute_result",
     "data": {
      "text/plain": "          budget                                homepage    imdb_id  \\\n30700   74000000            http://www.minionsmovie.com/  tt2293640   \n33356  149000000  http://www.warnerbros.com/wonder-woman  tt0451279   \n\n      original_language original_title  \\\n30700                en        Minions   \n33356                en   Wonder Woman   \n\n                                                overview  popularity  \\\n30700  Minions Stuart, Kevin and Bob are recruited by...  547.488298   \n33356  An Amazon princess comes to the world of Man t...  294.337037   \n\n                            poster_path release_date       revenue  runtime  \\\n30700   /q0R4crx2SehcEEQEkYObktdeFy.jpg   2015-06-17  1.156731e+09     91.0   \n33356  /imekS7f1OuHyUP2LAiTEM0zBzUz.jpg   2017-05-30  8.205804e+08    141.0   \n\n         status                                       tagline         title  \\\n30700  Released  Before Gru, they had a history of bad bosses       Minions   \n33356  Released                 Power. Grace. Wisdom. Wonder.  Wonder Woman   \n\n       video  vote_average  vote_count  date_segment  \n30700  False           6.4      4729.0             2  \n33356  False           7.2      5025.0             2  ",
      "text/html": "<div>\n<style scoped>\n    .dataframe tbody tr th:only-of-type {\n        vertical-align: middle;\n    }\n\n    .dataframe tbody tr th {\n        vertical-align: top;\n    }\n\n    .dataframe thead th {\n        text-align: right;\n    }\n</style>\n<table border=\"1\" class=\"dataframe\">\n  <thead>\n    <tr style=\"text-align: right;\">\n      <th></th>\n      <th>budget</th>\n      <th>homepage</th>\n      <th>imdb_id</th>\n      <th>original_language</th>\n      <th>original_title</th>\n      <th>overview</th>\n      <th>popularity</th>\n      <th>poster_path</th>\n      <th>release_date</th>\n      <th>revenue</th>\n      <th>runtime</th>\n      <th>status</th>\n      <th>tagline</th>\n      <th>title</th>\n      <th>video</th>\n      <th>vote_average</th>\n      <th>vote_count</th>\n      <th>date_segment</th>\n    </tr>\n  </thead>\n  <tbody>\n    <tr>\n      <th>30700</th>\n      <td>74000000</td>\n      <td>http://www.minionsmovie.com/</td>\n      <td>tt2293640</td>\n      <td>en</td>\n      <td>Minions</td>\n      <td>Minions Stuart, Kevin and Bob are recruited by...</td>\n      <td>547.488298</td>\n      <td>/q0R4crx2SehcEEQEkYObktdeFy.jpg</td>\n      <td>2015-06-17</td>\n      <td>1.156731e+09</td>\n      <td>91.0</td>\n      <td>Released</td>\n      <td>Before Gru, they had a history of bad bosses</td>\n      <td>Minions</td>\n      <td>False</td>\n      <td>6.4</td>\n      <td>4729.0</td>\n      <td>2</td>\n    </tr>\n    <tr>\n      <th>33356</th>\n      <td>149000000</td>\n      <td>http://www.warnerbros.com/wonder-woman</td>\n      <td>tt0451279</td>\n      <td>en</td>\n      <td>Wonder Woman</td>\n      <td>An Amazon princess comes to the world of Man t...</td>\n      <td>294.337037</td>\n      <td>/imekS7f1OuHyUP2LAiTEM0zBzUz.jpg</td>\n      <td>2017-05-30</td>\n      <td>8.205804e+08</td>\n      <td>141.0</td>\n      <td>Released</td>\n      <td>Power. Grace. Wisdom. Wonder.</td>\n      <td>Wonder Woman</td>\n      <td>False</td>\n      <td>7.2</td>\n      <td>5025.0</td>\n      <td>2</td>\n    </tr>\n  </tbody>\n</table>\n</div>"
     },
     "metadata": {},
     "execution_count": 12
    }
   ],
   "source": [
    "top50_until_2020 = movies_until_2020.iloc[0:50]\n",
    "top50_until_2020.head(2)"
   ]
  },
  {
   "cell_type": "markdown",
   "metadata": {},
   "source": [
    "# Ensure Consistency with Poster-Service"
   ]
  },
  {
   "cell_type": "code",
   "execution_count": 13,
   "metadata": {},
   "outputs": [],
   "source": [
    "import requests"
   ]
  },
  {
   "cell_type": "code",
   "execution_count": 14,
   "metadata": {},
   "outputs": [],
   "source": [
    "top50_all = pd.concat([top50_until_1990, top50_until_2005, top50_until_2020])"
   ]
  },
  {
   "cell_type": "code",
   "execution_count": 15,
   "metadata": {},
   "outputs": [
    {
     "output_type": "execute_result",
     "data": {
      "text/plain": "       budget                                           homepage    imdb_id  \\\n536  28000000             http://www.warnerbros.com/blade-runner  tt0083658   \n256  11000000  http://www.starwars.com/films/star-wars-episod...  tt0076759   \n\n    original_language original_title  \\\n536                en   Blade Runner   \n256                en      Star Wars   \n\n                                              overview  popularity  \\\n536  In the smog-choked dystopian Los Angeles of 20...   96.272374   \n256  Princess Leia is captured and held hostage by ...   42.149697   \n\n                          poster_path release_date      revenue  runtime  \\\n536  /p64TtbZGCElxQHpAMWmDHkWJlH2.jpg   1982-06-25   33139618.0    117.0   \n256  /btTdmkgIvOi0FFip1sPuZI2oQG6.jpg   1977-05-25  775398007.0    121.0   \n\n       status                                          tagline         title  \\\n536  Released  Man has made his match... now it's his problem.  Blade Runner   \n256  Released     A long time ago in a galaxy far, far away...     Star Wars   \n\n     video  vote_average  vote_count  date_segment  \n536  False           7.9      3833.0             0  \n256  False           8.1      6778.0             0  ",
      "text/html": "<div>\n<style scoped>\n    .dataframe tbody tr th:only-of-type {\n        vertical-align: middle;\n    }\n\n    .dataframe tbody tr th {\n        vertical-align: top;\n    }\n\n    .dataframe thead th {\n        text-align: right;\n    }\n</style>\n<table border=\"1\" class=\"dataframe\">\n  <thead>\n    <tr style=\"text-align: right;\">\n      <th></th>\n      <th>budget</th>\n      <th>homepage</th>\n      <th>imdb_id</th>\n      <th>original_language</th>\n      <th>original_title</th>\n      <th>overview</th>\n      <th>popularity</th>\n      <th>poster_path</th>\n      <th>release_date</th>\n      <th>revenue</th>\n      <th>runtime</th>\n      <th>status</th>\n      <th>tagline</th>\n      <th>title</th>\n      <th>video</th>\n      <th>vote_average</th>\n      <th>vote_count</th>\n      <th>date_segment</th>\n    </tr>\n  </thead>\n  <tbody>\n    <tr>\n      <th>536</th>\n      <td>28000000</td>\n      <td>http://www.warnerbros.com/blade-runner</td>\n      <td>tt0083658</td>\n      <td>en</td>\n      <td>Blade Runner</td>\n      <td>In the smog-choked dystopian Los Angeles of 20...</td>\n      <td>96.272374</td>\n      <td>/p64TtbZGCElxQHpAMWmDHkWJlH2.jpg</td>\n      <td>1982-06-25</td>\n      <td>33139618.0</td>\n      <td>117.0</td>\n      <td>Released</td>\n      <td>Man has made his match... now it's his problem.</td>\n      <td>Blade Runner</td>\n      <td>False</td>\n      <td>7.9</td>\n      <td>3833.0</td>\n      <td>0</td>\n    </tr>\n    <tr>\n      <th>256</th>\n      <td>11000000</td>\n      <td>http://www.starwars.com/films/star-wars-episod...</td>\n      <td>tt0076759</td>\n      <td>en</td>\n      <td>Star Wars</td>\n      <td>Princess Leia is captured and held hostage by ...</td>\n      <td>42.149697</td>\n      <td>/btTdmkgIvOi0FFip1sPuZI2oQG6.jpg</td>\n      <td>1977-05-25</td>\n      <td>775398007.0</td>\n      <td>121.0</td>\n      <td>Released</td>\n      <td>A long time ago in a galaxy far, far away...</td>\n      <td>Star Wars</td>\n      <td>False</td>\n      <td>8.1</td>\n      <td>6778.0</td>\n      <td>0</td>\n    </tr>\n  </tbody>\n</table>\n</div>"
     },
     "metadata": {},
     "execution_count": 15
    }
   ],
   "source": [
    "top50_all.head(2)"
   ]
  },
  {
   "cell_type": "code",
   "execution_count": 24,
   "metadata": {},
   "outputs": [],
   "source": [
    "def check_omdb_existence(row):\n",
    "    try:\n",
    "        result = requests.get(f\"http://localhost:3000/?id={row['imdb_id']}\")\n",
    "        return result.status_code == 200\n",
    "    except:\n",
    "        return False\n",
    "\n",
    "top50_all[\"omdb_consistent\"] = top50_all.apply(check_omdb_existence, axis=1)"
   ]
  },
  {
   "cell_type": "code",
   "execution_count": 25,
   "metadata": {},
   "outputs": [
    {
     "output_type": "execute_result",
     "data": {
      "text/plain": "          budget                                           homepage  \\\n26566  200000000  http://marvel.com/movies/movie/221/guardians_o...   \n\n         imdb_id original_language                  original_title  \\\n26566  tt3896198                en  Guardians of the Galaxy Vol. 2   \n\n                                                overview  popularity  \\\n26566  The Guardians must fight to keep their newfoun...  185.330992   \n\n                            poster_path release_date      revenue  runtime  \\\n26566  /y4MBh0EjBlMuOzv9axM4qJlmhzz.jpg   2017-04-19  863416141.0    137.0   \n\n         status     tagline                           title  video  \\\n26566  Released  Obviously.  Guardians of the Galaxy Vol. 2  False   \n\n       vote_average  vote_count  date_segment  omdb_consistent  \n26566           7.6      4858.0             2            False  ",
      "text/html": "<div>\n<style scoped>\n    .dataframe tbody tr th:only-of-type {\n        vertical-align: middle;\n    }\n\n    .dataframe tbody tr th {\n        vertical-align: top;\n    }\n\n    .dataframe thead th {\n        text-align: right;\n    }\n</style>\n<table border=\"1\" class=\"dataframe\">\n  <thead>\n    <tr style=\"text-align: right;\">\n      <th></th>\n      <th>budget</th>\n      <th>homepage</th>\n      <th>imdb_id</th>\n      <th>original_language</th>\n      <th>original_title</th>\n      <th>overview</th>\n      <th>popularity</th>\n      <th>poster_path</th>\n      <th>release_date</th>\n      <th>revenue</th>\n      <th>runtime</th>\n      <th>status</th>\n      <th>tagline</th>\n      <th>title</th>\n      <th>video</th>\n      <th>vote_average</th>\n      <th>vote_count</th>\n      <th>date_segment</th>\n      <th>omdb_consistent</th>\n    </tr>\n  </thead>\n  <tbody>\n    <tr>\n      <th>26566</th>\n      <td>200000000</td>\n      <td>http://marvel.com/movies/movie/221/guardians_o...</td>\n      <td>tt3896198</td>\n      <td>en</td>\n      <td>Guardians of the Galaxy Vol. 2</td>\n      <td>The Guardians must fight to keep their newfoun...</td>\n      <td>185.330992</td>\n      <td>/y4MBh0EjBlMuOzv9axM4qJlmhzz.jpg</td>\n      <td>2017-04-19</td>\n      <td>863416141.0</td>\n      <td>137.0</td>\n      <td>Released</td>\n      <td>Obviously.</td>\n      <td>Guardians of the Galaxy Vol. 2</td>\n      <td>False</td>\n      <td>7.6</td>\n      <td>4858.0</td>\n      <td>2</td>\n      <td>False</td>\n    </tr>\n  </tbody>\n</table>\n</div>"
     },
     "metadata": {},
     "execution_count": 25
    }
   ],
   "source": [
    "top50_all[~top50_all[\"omdb_consistent\"]]"
   ]
  },
  {
   "cell_type": "markdown",
   "metadata": {},
   "source": [
    "# Hydrate Database"
   ]
  },
  {
   "cell_type": "code",
   "execution_count": 26,
   "metadata": {},
   "outputs": [
    {
     "output_type": "execute_result",
     "data": {
      "text/plain": "True"
     },
     "metadata": {},
     "execution_count": 26
    }
   ],
   "source": [
    "# conda install sqlalchemy, psycopg2\n",
    "# pip install python-dotenv\n",
    "\n",
    "import os\n",
    "\n",
    "from sqlalchemy import create_engine\n",
    "from dotenv import load_dotenv\n",
    "load_dotenv()"
   ]
  },
  {
   "cell_type": "code",
   "execution_count": 27,
   "metadata": {},
   "outputs": [],
   "source": [
    "engine = create_engine(os.getenv(\"DATABASE_URL\"), echo=True)"
   ]
  },
  {
   "cell_type": "code",
   "execution_count": 30,
   "metadata": {},
   "outputs": [
    {
     "output_type": "stream",
     "name": "stdout",
     "text": "2020-03-22 20:22:40,898 INFO sqlalchemy.engine.base.Engine select relname from pg_class c join pg_namespace n on n.oid=c.relnamespace where pg_catalog.pg_table_is_visible(c.oid) and relname=%(name)s\n2020-03-22 20:22:40,899 INFO sqlalchemy.engine.base.Engine {'name': 'movies'}\n2020-03-22 20:22:41,024 INFO sqlalchemy.engine.base.Engine select relname from pg_class c join pg_namespace n on n.oid=c.relnamespace where pg_catalog.pg_table_is_visible(c.oid) and relname=%(name)s\n2020-03-22 20:22:41,026 INFO sqlalchemy.engine.base.Engine {'name': 'movies'}\n2020-03-22 20:22:41,142 INFO sqlalchemy.engine.base.Engine SELECT c.relname FROM pg_class c JOIN pg_namespace n ON n.oid = c.relnamespace WHERE n.nspname = %(schema)s AND c.relkind in ('r', 'p')\n2020-03-22 20:22:41,143 INFO sqlalchemy.engine.base.Engine {'schema': 'public'}\n2020-03-22 20:22:41,217 INFO sqlalchemy.engine.base.Engine \n            SELECT c.oid\n            FROM pg_catalog.pg_class c\n            LEFT JOIN pg_catalog.pg_namespace n ON n.oid = c.relnamespace\n            WHERE (pg_catalog.pg_table_is_visible(c.oid))\n            AND c.relname = %(table_name)s AND c.relkind in\n            ('r', 'v', 'm', 'f', 'p')\n        \n2020-03-22 20:22:41,218 INFO sqlalchemy.engine.base.Engine {'table_name': 'movies'}\n2020-03-22 20:22:41,256 INFO sqlalchemy.engine.base.Engine \n            SELECT a.attname,\n              pg_catalog.format_type(a.atttypid, a.atttypmod),\n              (SELECT pg_catalog.pg_get_expr(d.adbin, d.adrelid)\n                FROM pg_catalog.pg_attrdef d\n               WHERE d.adrelid = a.attrelid AND d.adnum = a.attnum\n               AND a.atthasdef)\n              AS DEFAULT,\n              a.attnotnull, a.attnum, a.attrelid as table_oid,\n              pgd.description as comment\n            FROM pg_catalog.pg_attribute a\n            LEFT JOIN pg_catalog.pg_description pgd ON (\n                pgd.objoid = a.attrelid AND pgd.objsubid = a.attnum)\n            WHERE a.attrelid = %(table_oid)s\n            AND a.attnum > 0 AND NOT a.attisdropped\n            ORDER BY a.attnum\n        \n2020-03-22 20:22:41,257 INFO sqlalchemy.engine.base.Engine {'table_oid': 6343121}\n2020-03-22 20:22:41,298 INFO sqlalchemy.engine.base.Engine \n            SELECT t.typname as \"name\",\n               pg_catalog.format_type(t.typbasetype, t.typtypmod) as \"attype\",\n               not t.typnotnull as \"nullable\",\n               t.typdefault as \"default\",\n               pg_catalog.pg_type_is_visible(t.oid) as \"visible\",\n               n.nspname as \"schema\"\n            FROM pg_catalog.pg_type t\n               LEFT JOIN pg_catalog.pg_namespace n ON n.oid = t.typnamespace\n            WHERE t.typtype = 'd'\n        \n2020-03-22 20:22:41,298 INFO sqlalchemy.engine.base.Engine {}\n2020-03-22 20:22:41,337 INFO sqlalchemy.engine.base.Engine \n            SELECT t.typname as \"name\",\n               -- no enum defaults in 8.4 at least\n               -- t.typdefault as \"default\",\n               pg_catalog.pg_type_is_visible(t.oid) as \"visible\",\n               n.nspname as \"schema\",\n               e.enumlabel as \"label\"\n            FROM pg_catalog.pg_type t\n                 LEFT JOIN pg_catalog.pg_namespace n ON n.oid = t.typnamespace\n                 LEFT JOIN pg_catalog.pg_enum e ON t.oid = e.enumtypid\n            WHERE t.typtype = 'e'\n        ORDER BY \"schema\", \"name\", e.oid\n2020-03-22 20:22:41,338 INFO sqlalchemy.engine.base.Engine {}\n2020-03-22 20:22:41,380 INFO sqlalchemy.engine.base.Engine \n                SELECT a.attname\n                FROM pg_attribute a JOIN (\n                    SELECT unnest(ix.indkey) attnum,\n                           generate_subscripts(ix.indkey, 1) ord\n                    FROM pg_index ix\n                    WHERE ix.indrelid = %(table_oid)s AND ix.indisprimary\n                    ) k ON a.attnum=k.attnum\n                WHERE a.attrelid = %(table_oid)s\n                ORDER BY k.ord\n            \n2020-03-22 20:22:41,381 INFO sqlalchemy.engine.base.Engine {'table_oid': 6343121}\n2020-03-22 20:22:41,423 INFO sqlalchemy.engine.base.Engine \n        SELECT conname\n           FROM  pg_catalog.pg_constraint r\n           WHERE r.conrelid = %(table_oid)s AND r.contype = 'p'\n           ORDER BY 1\n        \n2020-03-22 20:22:41,425 INFO sqlalchemy.engine.base.Engine {'table_oid': 6343121}\n2020-03-22 20:22:41,464 INFO sqlalchemy.engine.base.Engine \n          SELECT r.conname,\n                pg_catalog.pg_get_constraintdef(r.oid, true) as condef,\n                n.nspname as conschema\n          FROM  pg_catalog.pg_constraint r,\n                pg_namespace n,\n                pg_class c\n\n          WHERE r.conrelid = %(table)s AND\n                r.contype = 'f' AND\n                c.oid = confrelid AND\n                n.oid = c.relnamespace\n          ORDER BY 1\n        \n2020-03-22 20:22:41,465 INFO sqlalchemy.engine.base.Engine {'table': 6343121}\n2020-03-22 20:22:41,503 INFO sqlalchemy.engine.base.Engine \n              SELECT\n                  i.relname as relname,\n                  ix.indisunique, ix.indexprs, ix.indpred,\n                  a.attname, a.attnum, c.conrelid, ix.indkey::varchar,\n                  ix.indoption::varchar, i.reloptions, am.amname\n              FROM\n                  pg_class t\n                        join pg_index ix on t.oid = ix.indrelid\n                        join pg_class i on i.oid = ix.indexrelid\n                        left outer join\n                            pg_attribute a\n                            on t.oid = a.attrelid and a.attnum = ANY(ix.indkey)\n                        left outer join\n                            pg_constraint c\n                            on (ix.indrelid = c.conrelid and\n                                ix.indexrelid = c.conindid and\n                                c.contype in ('p', 'u', 'x'))\n                        left outer join\n                            pg_am am\n                            on i.relam = am.oid\n              WHERE\n                  t.relkind IN ('r', 'v', 'f', 'm', 'p')\n                  and t.oid = %(table_oid)s\n                  and ix.indisprimary = 'f'\n              ORDER BY\n                  t.relname,\n                  i.relname\n            \n2020-03-22 20:22:41,503 INFO sqlalchemy.engine.base.Engine {'table_oid': 6343121}\n2020-03-22 20:22:41,543 INFO sqlalchemy.engine.base.Engine \n            SELECT\n                cons.conname as name,\n                cons.conkey as key,\n                a.attnum as col_num,\n                a.attname as col_name\n            FROM\n                pg_catalog.pg_constraint cons\n                join pg_attribute a\n                  on cons.conrelid = a.attrelid AND\n                    a.attnum = ANY(cons.conkey)\n            WHERE\n                cons.conrelid = %(table_oid)s AND\n                cons.contype = 'u'\n        \n2020-03-22 20:22:41,544 INFO sqlalchemy.engine.base.Engine {'table_oid': 6343121}\n2020-03-22 20:22:41,585 INFO sqlalchemy.engine.base.Engine \n            SELECT\n                cons.conname as name,\n                pg_get_constraintdef(cons.oid) as src\n            FROM\n                pg_catalog.pg_constraint cons\n            WHERE\n                cons.conrelid = %(table_oid)s AND\n                cons.contype = 'c'\n        \n2020-03-22 20:22:41,586 INFO sqlalchemy.engine.base.Engine {'table_oid': 6343121}\n2020-03-22 20:22:41,623 INFO sqlalchemy.engine.base.Engine \n            SELECT\n                pgd.description as table_comment\n            FROM\n                pg_catalog.pg_description pgd\n            WHERE\n                pgd.objsubid = 0 AND\n                pgd.objoid = %(table_oid)s\n        \n2020-03-22 20:22:41,623 INFO sqlalchemy.engine.base.Engine {'table_oid': 6343121}\n2020-03-22 20:22:41,698 INFO sqlalchemy.engine.base.Engine \nDROP TABLE movies\n2020-03-22 20:22:41,698 INFO sqlalchemy.engine.base.Engine {}\n2020-03-22 20:22:41,775 INFO sqlalchemy.engine.base.Engine COMMIT\n2020-03-22 20:22:41,824 INFO sqlalchemy.engine.base.Engine \nCREATE TABLE movies (\n\timdb_id TEXT, \n\tbudget TEXT, \n\thomepage TEXT, \n\toriginal_language TEXT, \n\toriginal_title TEXT, \n\toverview TEXT, \n\tpopularity FLOAT(53), \n\tposter_path TEXT, \n\trelease_date TEXT, \n\trevenue FLOAT(53), \n\truntime FLOAT(53), \n\tstatus TEXT, \n\ttagline TEXT, \n\ttitle TEXT, \n\tvideo BOOLEAN, \n\tvote_average FLOAT(53), \n\tvote_count FLOAT(53), \n\tdate_segment BIGINT, \n\tomdb_consistent BOOLEAN\n)\n\n\n2020-03-22 20:22:41,825 INFO sqlalchemy.engine.base.Engine {}\n2020-03-22 20:22:41,917 INFO sqlalchemy.engine.base.Engine COMMIT\n2020-03-22 20:22:41,960 INFO sqlalchemy.engine.base.Engine CREATE INDEX ix_movies_imdb_id ON movies (imdb_id)\n2020-03-22 20:22:41,961 INFO sqlalchemy.engine.base.Engine {}\n2020-03-22 20:22:42,042 INFO sqlalchemy.engine.base.Engine COMMIT\n2020-03-22 20:22:42,085 INFO sqlalchemy.engine.base.Engine BEGIN (implicit)\n2020-03-22 20:22:42,086 INFO sqlalchemy.engine.base.Engine INSERT INTO movies (imdb_id, budget, homepage, original_language, original_title, overview, popularity, poster_path, release_date, revenue, runtime, status, tagline, title, video, vote_average, vote_count, date_segment, omdb_consistent) VALUES (%(imdb_id)s, %(budget)s, %(homepage)s, %(original_language)s, %(original_title)s, %(overview)s, %(popularity)s, %(poster_path)s, %(release_date)s, %(revenue)s, %(runtime)s, %(status)s, %(tagline)s, %(title)s, %(video)s, %(vote_average)s, %(vote_count)s, %(date_segment)s, %(omdb_consistent)s)\n2020-03-22 20:22:42,086 INFO sqlalchemy.engine.base.Engine {'imdb_id': 'tt3896198', 'budget': '200000000', 'homepage': 'http://marvel.com/movies/movie/221/guardians_of_the_galaxy_vol_2', 'original_language': 'en', 'original_title': 'Guardians of the Galaxy Vol. 2', 'overview': \"The Guardians must fight to keep their newfound family together as they unravel the mysteries of Peter Quill's true parentage.\", 'popularity': 185.33099199999998, 'poster_path': '/y4MBh0EjBlMuOzv9axM4qJlmhzz.jpg', 'release_date': '2017-04-19', 'revenue': 863416141.0, 'runtime': 137.0, 'status': 'Released', 'tagline': 'Obviously.', 'title': 'Guardians of the Galaxy Vol. 2', 'video': False, 'vote_average': 7.6, 'vote_count': 4858.0, 'date_segment': 2, 'omdb_consistent': False}\n2020-03-22 20:22:42,170 INFO sqlalchemy.engine.base.Engine COMMIT\n"
    }
   ],
   "source": [
    "top50_all = top50_all.set_index(\"imdb_id\")\n",
    "top50_all[~top50_all[\"omdb_consistent\"]].to_sql(\"movies\", con=engine, if_exists=\"replace\")"
   ]
  },
  {
   "cell_type": "code",
   "execution_count": null,
   "metadata": {},
   "outputs": [],
   "source": []
  }
 ],
 "metadata": {
  "kernelspec": {
   "display_name": "Python 3",
   "language": "python",
   "name": "python3"
  },
  "language_info": {
   "codemirror_mode": {
    "name": "ipython",
    "version": 3
   },
   "file_extension": ".py",
   "mimetype": "text/x-python",
   "name": "python",
   "nbconvert_exporter": "python",
   "pygments_lexer": "ipython3",
   "version": "3.7.3"
  }
 },
 "nbformat": 4,
 "nbformat_minor": 4
}